{
 "cells": [
  {
   "cell_type": "code",
   "execution_count": null,
   "metadata": {},
   "outputs": [],
   "source": [
    "#data format library\n",
    "import h5py\n",
    "#numpy\n",
    "import numpy as np\n",
    "import numpy.ma as ma\n",
    "import matplotlib.pyplot as plt\n",
    "import sys\n",
    "sys.path.append('./utils')\n",
    "import operator_calculations as op_calc\n",
    "import worm_dynamics as worm_dyn\n",
    "import stats\n",
    "import rft_reconstruct_traj as rft"
   ]
  },
  {
   "cell_type": "code",
   "execution_count": null,
   "metadata": {},
   "outputs": [],
   "source": [
    "mat=h5py.File('../data/Foraging_N2/PNAS2011-DataStitched.mat','r')\n",
    "\n",
    "refs=list(mat['#refs#'].keys())[1:]\n",
    "tseries_w=[ma.masked_invalid(np.array(mat['#refs#'][ref]).T)[:,:5] for ref in refs]\n",
    "mat.close()\n",
    "frameRate=16.\n",
    "dt=1/frameRate\n",
    "\n",
    "\n",
    "masked_ts_w = []\n",
    "for worm in np.arange(len(tseries_w)):\n",
    "    ts_w = tseries_w[worm]\n",
    "    ts_w[0] = ma.masked\n",
    "    ts_w[-1] = ma.masked\n",
    "    masked_ts_w.append(ts_w)\n",
    "\n",
    "segments=op_calc.segment_maskedArray(ma.vstack(masked_ts_w),5)\n",
    "omegas_all=ma.zeros(ma.vstack(masked_ts_w).shape[0])\n",
    "a3s_all=ma.zeros(ma.vstack(masked_ts_w).shape[0])\n",
    "for t0,tf in segments:\n",
    "    phi,omega,a3=worm_dyn.compute_phi_omega_a3(ma.vstack(masked_ts_w),t0,tf,frameRate = frameRate)\n",
    "    omegas_all[t0:tf] = omega\n",
    "    a3s_all[t0:tf] = a3\n",
    "omegas_all[omegas_all==0]=ma.masked\n",
    "a3s_all[a3s_all==0]=ma.masked\n",
    "\n",
    "eigenworms_matrix = np.loadtxt('../data/Foraging_N2/EigenWorms.csv', delimiter=',').astype(np.float32)\n",
    "thetas_w = ma.array([ts.dot(eigenworms_matrix[:,:5].T) for ts in masked_ts_w])\n",
    "thetas_all = ma.vstack(thetas_w)\n",
    "thetas_sum = thetas_all.sum(axis=1)"
   ]
  },
  {
   "cell_type": "code",
   "execution_count": null,
   "metadata": {},
   "outputs": [],
   "source": [
    "n_clusters=1000\n",
    "f = h5py.File('../data/Foraging_N2/labels_{}_clusters.h5'.format(n_clusters),'r')\n",
    "labels_traj = ma.array(f['labels_traj'],dtype=int)\n",
    "mask_traj = np.array(f['mask_traj'],dtype=bool)\n",
    "labels_phspace = ma.array(f['labels_phspace'],dtype=int)\n",
    "mask_phspace = np.array(f['mask_phspace'],dtype=bool)\n",
    "centers_phspace = np.array(f['centers_phspace'])\n",
    "centers_traj = np.array(f['centers_traj'])\n",
    "f.close()\n",
    "\n",
    "labels_traj[mask_traj] = ma.masked\n",
    "labels_phspace[mask_phspace] = ma.masked"
   ]
  },
  {
   "cell_type": "code",
   "execution_count": null,
   "metadata": {},
   "outputs": [],
   "source": [
    "f = h5py.File('../data/embedding_analysis/partition_combined_results_perworm.h5','r')\n",
    "K_range = np.array(f['K_range'],dtype=int)\n",
    "seed_range = np.array(f['seed_range'],dtype=int)\n",
    "prob_K_s = np.array(f['probs'])\n",
    "H_K_s = np.array(f['entropies'])\n",
    "h_K_s = np.array(f['entropy_rates'])\n",
    "Ipred_K_s = np.array(f['Ipreds'])\n",
    "eps_K_s = np.array(f['eps_scale'])\n",
    "f.close()\n",
    "\n"
   ]
  },
  {
   "cell_type": "code",
   "execution_count": null,
   "metadata": {},
   "outputs": [],
   "source": [
    "def std_bootstrap(l,n_times): \n",
    "    new_means = []\n",
    "    for i in range(n_times):\n",
    "        indices=np.random.choice(range(0,len(l)),len(l))#len(l))\n",
    "        new_list=[l[idx] for idx in indices]\n",
    "        new_means.append(ma.mean(new_list,axis=0))\n",
    "    new_means=ma.vstack(new_means)\n",
    "    std = ma.std(new_means,axis=0)\n",
    "    return ma.mean(l,axis=0),std"
   ]
  },
  {
   "cell_type": "code",
   "execution_count": null,
   "metadata": {},
   "outputs": [],
   "source": [
    "plt.figure(figsize=(5,5))\n",
    "colors_K = plt.cm.viridis(np.linspace(.1,1,len(K_range[:22][::2])))\n",
    "for k,K in enumerate(K_range[:22][::2]):\n",
    "    mean,std = std_bootstrap(h_K_s[K-1,:13,:].T/dt,n_times=100)\n",
    "    plt.errorbar(seed_range[:13],mean,std,c=colors_K[k],capsize=4,marker='o',lw=2)\n",
    "plt.ylim(12,23)\n",
    "plt.xlabel('N',fontsize=12)\n",
    "plt.ylabel('h (nat/s)',fontsize=12)\n",
    "# plt.savefig('h_N_Foraging_2K_N13.pdf')\n",
    "plt.show()"
   ]
  },
  {
   "cell_type": "code",
   "execution_count": null,
   "metadata": {},
   "outputs": [],
   "source": [
    "import matplotlib as mpl\n",
    "\n",
    "fig, ax = plt.subplots(figsize=(10, 1))\n",
    "fig.subplots_adjust(bottom=0.5)\n",
    "\n",
    "cmap = mpl.colors.ListedColormap(colors_K)\n",
    "cmap.set_over('0.1')\n",
    "cmap.set_under('1.0')\n",
    "\n",
    "bounds =  (K_range[:22][::2]-1)*dt\n",
    "norm = mpl.colors.BoundaryNorm(bounds, cmap.N)\n",
    "cb2 = mpl.colorbar.ColorbarBase(ax, cmap=cmap,\n",
    "                                norm=norm,\n",
    "                                boundaries=bounds,\n",
    "                                ticks=np.arange(0,1.6,.25),\n",
    "                                spacing='proportional',\n",
    "                                orientation='horizontal')\n",
    "cb2.set_label('K(s)')\n",
    "# plt.savefig('colorbar_K_range_h_2K.pdf')\n",
    "fig.show()\n"
   ]
  },
  {
   "cell_type": "code",
   "execution_count": null,
   "metadata": {},
   "outputs": [],
   "source": [
    "kN=10\n",
    "h_K = h_K_s[:,kN,:]/dt"
   ]
  },
  {
   "cell_type": "code",
   "execution_count": null,
   "metadata": {},
   "outputs": [],
   "source": [
    "mean,cil,ciu = stats.bootstrap((-np.diff(h_K,axis=0).T/np.diff(K_range*dt)),n_times=1000)\n",
    "plt.figure(figsize=(5,5))\n",
    "plt.errorbar(K_range[1:-1]*dt,mean[1:],yerr = [mean[1:]-cil[1:],ciu[1:]-mean[1:]],capsize=3,marker='o')\n",
    "plt.axhline(0,ls='--',c='k')\n",
    "plt.axvline(0.6875,c='gray')\n",
    "plt.xlim(0,2.5)\n",
    "plt.text(2,13.5,'$N=10^3$',fontsize=14)\n",
    "# plt.savefig('h_diff_Foraging_N_1000.pdf')\n",
    "plt.show()"
   ]
  },
  {
   "cell_type": "code",
   "execution_count": null,
   "metadata": {},
   "outputs": [],
   "source": [
    "n_neighbors=50;min_dist=.05\n",
    "f = h5py.File('../data/umap_embeddings/umap_n_{:.1f}_d_{:.2f}.h5'.format(n_neighbors,min_dist),'r')\n",
    "u_all = ma.masked_invalid(f['umap'])\n",
    "u_all[u_all==0] = ma.masked\n",
    "f.close()\n",
    "u = u_all[:-1000]\n",
    "f.close()"
   ]
  },
  {
   "cell_type": "code",
   "execution_count": null,
   "metadata": {},
   "outputs": [],
   "source": [
    "t_fwd = 255141\n",
    "t_dorsal = 168710\n",
    "t_rev = 204380\n",
    "t_ventral = 42865"
   ]
  },
  {
   "cell_type": "code",
   "execution_count": null,
   "metadata": {},
   "outputs": [],
   "source": [
    "from matplotlib.colors import TwoSlopeNorm,LinearSegmentedColormap"
   ]
  },
  {
   "cell_type": "code",
   "execution_count": null,
   "metadata": {},
   "outputs": [],
   "source": [
    "plt.figure(figsize=(12,10))\n",
    "vmin,vmax=-.5,.5\n",
    "sel = ~omegas_all.mask\n",
    "plt.scatter(u[sel,0],u[sel,1],s=.003,norm=TwoSlopeNorm(0,vmin=vmin,vmax=vmax),c=omegas_all[sel],cmap='coolwarm')\n",
    "plt.colorbar(label='$\\omega$')\n",
    "plt.axis('equal')\n",
    "plt.xlabel('$u_1$',fontsize=14)\n",
    "plt.ylabel('$u_2$',fontsize=14)\n",
    "plt.scatter(u[t_fwd,0],u[t_fwd,1],c='k')\n",
    "plt.scatter(u[t_dorsal,0],u[t_dorsal,1],c='k')\n",
    "plt.scatter(u[t_rev,0],u[t_rev,1],c='k')\n",
    "plt.scatter(u[t_ventral,0],u[t_ventral,1],c='k')\n",
    "plt.tight_layout()\n",
    "# plt.savefig('umap_omegas_scatter.png',dpi=300)\n",
    "plt.show()\n",
    "\n",
    "sel = ~thetas_sum.mask\n",
    "vmin,vmax=-5e-4,3e-4\n",
    "plt.figure(figsize=(12,10))\n",
    "plt.scatter(u[sel,0],u[sel,1],s=.01,norm=TwoSlopeNorm(0,vmin=vmin,vmax=vmax),c=thetas_sum[sel],cmap='coolwarm')\n",
    "plt.colorbar(label=r'$\\sum\\theta$')\n",
    "plt.axis('equal')\n",
    "plt.xlabel('$u_1$',fontsize=14)\n",
    "plt.ylabel('$u_2$',fontsize=14)\n",
    "plt.tight_layout()\n",
    "\n",
    "plt.scatter(u[t_fwd,0],u[t_fwd,1],c='k')\n",
    "plt.scatter(u[t_dorsal,0],u[t_dorsal,1],c='k')\n",
    "plt.scatter(u[t_rev,0],u[t_rev,1],c='k')\n",
    "plt.scatter(u[t_ventral,0],u[t_ventral,1],c='k')\n",
    "plt.tight_layout()\n",
    "# plt.savefig('umap_theta_sum_scatter.png',dpi=300)\n",
    "plt.show()"
   ]
  },
  {
   "cell_type": "code",
   "execution_count": null,
   "metadata": {},
   "outputs": [],
   "source": [
    "K_star=10\n",
    "ts_rev = ma.vstack(tseries_w)[t_rev:t_rev+K_star]\n",
    "ts_fwd = ma.vstack(tseries_w)[t_fwd:t_fwd+K_star]\n",
    "ts_dorsal = ma.vstack(tseries_w)[t_dorsal:t_dorsal+K_star]\n",
    "ts_ventral = ma.vstack(tseries_w)[t_ventral:t_ventral+K_star]\n"
   ]
  },
  {
   "cell_type": "code",
   "execution_count": null,
   "metadata": {},
   "outputs": [],
   "source": [
    "def reconstruct_traj(ts,eigenworms_matrix,alpha=1000.):\n",
    "    angleArray = ts.dot(eigenworms_matrix[:,:5].T)\n",
    "    theta = -angleArray.T\n",
    "    L=1\n",
    "    ds = L/(theta.shape[0])\n",
    "    skel = rft.get_skels(theta,L)\n",
    "    X = skel[:,:,0]\n",
    "    Y = skel[:,:,1]\n",
    "    XCM, YCM, UX, UY, UXCM, UYCM, TX, TY, NX, NY, I, OMEG = rft.get_RBM(skel,L,ds,dt)\n",
    "    DX, DY, ODX, ODY, VX, VY, Xtil, Ytil, THETA = rft.subtractRBM(X, Y, XCM, YCM, UX, UY, UXCM, UYCM, OMEG, dt)\n",
    "    TX,TY = rft.lab2body(TX, TY, THETA)\n",
    "    VX,VY = rft.lab2body(VX, VY, THETA)\n",
    "    RBM = rft.posture2RBM(TX,TY,Xtil,Ytil,VX,VY,L,I,ds,alpha)\n",
    "    XCM_recon,YCM_recon,THETA_recon = rft.integrateRBM(RBM,dt,THETA)\n",
    "    Xskel_recon,Yskel_recon =  rft.addRBMRotMat(Xtil, Ytil, XCM_recon, YCM_recon,THETA_recon, XCM, YCM, THETA)\n",
    "    return Xskel_recon,Yskel_recon"
   ]
  },
  {
   "cell_type": "code",
   "execution_count": null,
   "metadata": {},
   "outputs": [],
   "source": [
    "alpha=1000.\n",
    "Xskel_recon,Yskel_recon=reconstruct_traj(ts_rev,eigenworms_matrix)"
   ]
  },
  {
   "cell_type": "code",
   "execution_count": null,
   "metadata": {},
   "outputs": [],
   "source": [
    "colors_t = plt.cm.Greys(np.linspace(0.1,1,len(ts_rev)))\n",
    "colors_head = plt.cm.Reds(np.linspace(0.1,1,len(ts_rev)))\n",
    "\n",
    "for kt in range(len(Xskel_recon)):\n",
    "    plt.plot(np.array(Xskel_recon)[kt],np.array(Yskel_recon)[kt],c=colors_t[kt],lw=5,alpha=.8,solid_capstyle='round')\n",
    "    plt.scatter(np.array(Xskel_recon)[kt][0],np.array(Yskel_recon)[kt][0],color=colors_head[kt],s=50,zorder = len(Xskel_recon)+1)\n",
    "plt.axis('equal')\n",
    "plt.tight_layout()\n",
    "# plt.savefig('rev_traj.pdf')\n",
    "plt.show()"
   ]
  },
  {
   "cell_type": "code",
   "execution_count": null,
   "metadata": {},
   "outputs": [],
   "source": [
    "Xrecon,Yrecon=reconstruct_traj(ts_fwd,eigenworms_matrix)\n",
    "colors_t = plt.cm.Greys(np.linspace(0.1,1,len(ts_fwd)))\n",
    "colors_head = plt.cm.Reds(np.linspace(0.1,1,len(ts_fwd)))\n",
    "\n",
    "for kt in range(len(Xrecon)):\n",
    "    plt.plot(np.array(Xrecon)[kt],np.array(Yrecon)[kt],c=colors_t[kt],lw=5,alpha=.8,solid_capstyle='round')\n",
    "    plt.scatter(np.array(Xrecon)[kt][0],np.array(Yrecon)[kt][0],color=colors_head[kt],s=50,zorder = len(Xrecon)+1)\n",
    "plt.axis('equal')\n",
    "plt.tight_layout()\n",
    "# plt.savefig('fwd_traj.pdf')\n",
    "plt.show()"
   ]
  },
  {
   "cell_type": "code",
   "execution_count": null,
   "metadata": {},
   "outputs": [],
   "source": [
    "Xrecon,Yrecon=reconstruct_traj(ts_dorsal,eigenworms_matrix)\n",
    "colors_t = plt.cm.Greys(np.linspace(0.2,1,len(ts_dorsal)))\n",
    "colors_head = plt.cm.Reds(np.linspace(0.2,1,len(ts_dorsal)))\n",
    "\n",
    "for kt in range(len(Xrecon)):\n",
    "    plt.plot(np.array(Xrecon)[kt],np.array(Yrecon)[kt],c=colors_t[kt],lw=5,alpha=.8,solid_capstyle='round')\n",
    "    plt.scatter(np.array(Xrecon)[kt][0],np.array(Yrecon)[kt][0],color=colors_head[kt],s=50,zorder = len(Xrecon)+1)\n",
    "plt.axis('equal')\n",
    "plt.tight_layout()\n",
    "# plt.savefig('dorsal_traj.pdf')\n",
    "plt.show()\n"
   ]
  },
  {
   "cell_type": "code",
   "execution_count": null,
   "metadata": {},
   "outputs": [],
   "source": [
    "Xrecon,Yrecon=reconstruct_traj(ts_ventral,eigenworms_matrix)\n",
    "colors_t = plt.cm.Greys(np.linspace(0.2,1,len(ts_ventral)))\n",
    "colors_head = plt.cm.Reds(np.linspace(0.2,1,len(ts_ventral)))\n",
    "for kt in range(len(Xrecon)):\n",
    "    plt.plot(np.array(Xrecon)[kt],np.array(Yrecon)[kt],c=colors_t[kt],lw=5,alpha=.8,solid_capstyle='round')\n",
    "    plt.scatter(np.array(Xrecon)[kt][0],np.array(Yrecon)[kt][0],color=colors_head[kt],s=50,zorder = len(Xrecon)+1)\n",
    "plt.axis('equal')\n",
    "plt.tight_layout()\n",
    "# plt.savefig('ventral_traj.pdf')\n",
    "plt.show()\n"
   ]
  }
 ],
 "metadata": {
  "kernelspec": {
   "display_name": "Python 3",
   "language": "python",
   "name": "python3"
  },
  "language_info": {
   "codemirror_mode": {
    "name": "ipython",
    "version": 3
   },
   "file_extension": ".py",
   "mimetype": "text/x-python",
   "name": "python",
   "nbconvert_exporter": "python",
   "pygments_lexer": "ipython3",
   "version": "3.8.5"
  }
 },
 "nbformat": 4,
 "nbformat_minor": 2
}
